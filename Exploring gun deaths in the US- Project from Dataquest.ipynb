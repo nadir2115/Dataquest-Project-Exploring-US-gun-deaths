{
 "cells": [
  {
   "cell_type": "code",
   "execution_count": 3,
   "metadata": {
    "collapsed": false,
    "deletable": true,
    "editable": true
   },
   "outputs": [
    {
     "name": "stdout",
     "output_type": "stream",
     "text": [
      "[['', 'year', 'month', 'intent', 'police', 'sex', 'age', 'race', 'hispanic', 'place', 'education'], ['1', '2012', '01', 'Suicide', '0', 'M', '34', 'Asian/Pacific Islander', '100', 'Home', '4'], ['2', '2012', '01', 'Suicide', '0', 'F', '21', 'White', '100', 'Street', '3'], ['3', '2012', '01', 'Suicide', '0', 'M', '60', 'White', '100', 'Other specified', '4'], ['4', '2012', '02', 'Suicide', '0', 'M', '64', 'White', '100', 'Home', '4']]\n"
     ]
    }
   ],
   "source": [
    "import csv\n",
    "f = open(\"guns.csv\")\n",
    "data= list(csv.reader(f))\n",
    "\n",
    "print(data[0:5])"
   ]
  },
  {
   "cell_type": "code",
   "execution_count": 4,
   "metadata": {
    "collapsed": false,
    "deletable": true,
    "editable": true
   },
   "outputs": [
    {
     "name": "stdout",
     "output_type": "stream",
     "text": [
      "['', 'year', 'month', 'intent', 'police', 'sex', 'age', 'race', 'hispanic', 'place', 'education']\n"
     ]
    }
   ],
   "source": [
    "headers=data[0]\n",
    "data=data[1:]\n",
    "print(headers)"
   ]
  },
  {
   "cell_type": "code",
   "execution_count": 7,
   "metadata": {
    "collapsed": false,
    "deletable": true,
    "editable": true
   },
   "outputs": [
    {
     "name": "stdout",
     "output_type": "stream",
     "text": [
      "[['1', '2012', '01', 'Suicide', '0', 'M', '34', 'Asian/Pacific Islander', '100', 'Home', '4'], ['2', '2012', '01', 'Suicide', '0', 'F', '21', 'White', '100', 'Street', '3'], ['3', '2012', '01', 'Suicide', '0', 'M', '60', 'White', '100', 'Other specified', '4'], ['4', '2012', '02', 'Suicide', '0', 'M', '64', 'White', '100', 'Home', '4'], ['5', '2012', '02', 'Suicide', '0', 'M', '31', 'White', '100', 'Other specified', '2']]\n"
     ]
    }
   ],
   "source": [
    "print(data[0:5])"
   ]
  },
  {
   "cell_type": "code",
   "execution_count": 13,
   "metadata": {
    "collapsed": false,
    "deletable": true,
    "editable": true
   },
   "outputs": [
    {
     "name": "stdout",
     "output_type": "stream",
     "text": [
      "{'2012': 33563, '2013': 33636, '2014': 33599}\n"
     ]
    }
   ],
   "source": [
    "years = [row[1] for row in data]\n",
    "\n",
    "year_counts = {}\n",
    "for year in years:\n",
    "    if year not in year_counts:\n",
    "        year_counts[year] = 1\n",
    "    else:  \n",
    "        year_counts[year] += 1\n",
    "\n",
    "print(year_counts)"
   ]
  },
  {
   "cell_type": "code",
   "execution_count": 14,
   "metadata": {
    "collapsed": false,
    "deletable": true,
    "editable": true
   },
   "outputs": [
    {
     "name": "stdout",
     "output_type": "stream",
     "text": [
      "[datetime.datetime(2012, 1, 1, 0, 0), datetime.datetime(2012, 1, 1, 0, 0), datetime.datetime(2012, 1, 1, 0, 0), datetime.datetime(2012, 2, 1, 0, 0), datetime.datetime(2012, 2, 1, 0, 0)]\n"
     ]
    }
   ],
   "source": [
    "import datetime\n",
    "dates= [datetime.datetime(year=int(row[1]),month=int(row[2]), day=1) for row in data]\n",
    "print(dates[0:5])"
   ]
  },
  {
   "cell_type": "code",
   "execution_count": 15,
   "metadata": {
    "collapsed": false,
    "deletable": true,
    "editable": true
   },
   "outputs": [
    {
     "name": "stdout",
     "output_type": "stream",
     "text": [
      "{datetime.datetime(2014, 12, 1, 0, 0): 2857, datetime.datetime(2014, 5, 1, 0, 0): 2864, datetime.datetime(2013, 9, 1, 0, 0): 2742, datetime.datetime(2012, 7, 1, 0, 0): 3026, datetime.datetime(2012, 3, 1, 0, 0): 2743, datetime.datetime(2012, 11, 1, 0, 0): 2729, datetime.datetime(2014, 1, 1, 0, 0): 2651, datetime.datetime(2013, 2, 1, 0, 0): 2375, datetime.datetime(2014, 9, 1, 0, 0): 2914, datetime.datetime(2013, 10, 1, 0, 0): 2808, datetime.datetime(2012, 12, 1, 0, 0): 2791, datetime.datetime(2014, 3, 1, 0, 0): 2684, datetime.datetime(2013, 3, 1, 0, 0): 2862, datetime.datetime(2014, 7, 1, 0, 0): 2884, datetime.datetime(2014, 10, 1, 0, 0): 2865, datetime.datetime(2014, 6, 1, 0, 0): 2931, datetime.datetime(2012, 6, 1, 0, 0): 2826, datetime.datetime(2013, 4, 1, 0, 0): 2798, datetime.datetime(2012, 4, 1, 0, 0): 2795, datetime.datetime(2014, 8, 1, 0, 0): 2970, datetime.datetime(2013, 5, 1, 0, 0): 2806, datetime.datetime(2014, 2, 1, 0, 0): 2361, datetime.datetime(2013, 1, 1, 0, 0): 2864, datetime.datetime(2014, 4, 1, 0, 0): 2862, datetime.datetime(2013, 11, 1, 0, 0): 2758, datetime.datetime(2014, 11, 1, 0, 0): 2756, datetime.datetime(2013, 12, 1, 0, 0): 2765, datetime.datetime(2012, 10, 1, 0, 0): 2733, datetime.datetime(2012, 1, 1, 0, 0): 2758, datetime.datetime(2012, 2, 1, 0, 0): 2357, datetime.datetime(2013, 7, 1, 0, 0): 3079, datetime.datetime(2012, 5, 1, 0, 0): 2999, datetime.datetime(2013, 8, 1, 0, 0): 2859, datetime.datetime(2012, 8, 1, 0, 0): 2954, datetime.datetime(2013, 6, 1, 0, 0): 2920, datetime.datetime(2012, 9, 1, 0, 0): 2852}\n"
     ]
    }
   ],
   "source": [
    "date_counts={}\n",
    "for date in dates:\n",
    "    if date not in date_counts:\n",
    "        date_counts[date]=1\n",
    "    else:\n",
    "        date_counts[date]+=1\n",
    "\n",
    "print(date_counts)"
   ]
  },
  {
   "cell_type": "code",
   "execution_count": 17,
   "metadata": {
    "collapsed": false,
    "deletable": true,
    "editable": true
   },
   "outputs": [],
   "source": [
    "sex_counts={}\n",
    "race_counts={}\n",
    "for row in data:\n",
    "    if row[5] in sex_counts:\n",
    "        sex_counts[row[5]]+=1\n",
    "    else:\n",
    "        sex_counts[row[5]]=1\n",
    "    if row[7] in race_counts:\n",
    "        race_counts[row[7]]+=1\n",
    "    else:\n",
    "        race_counts[row[7]]=1"
   ]
  },
  {
   "cell_type": "code",
   "execution_count": 18,
   "metadata": {
    "collapsed": false,
    "deletable": true,
    "editable": true
   },
   "outputs": [
    {
     "name": "stdout",
     "output_type": "stream",
     "text": [
      "{'Hispanic': 9022, 'White': 66237, 'Asian/Pacific Islander': 1326, 'Black': 23296, 'Native American/Native Alaskan': 917}\n"
     ]
    }
   ],
   "source": [
    "print(race_counts)"
   ]
  },
  {
   "cell_type": "code",
   "execution_count": 19,
   "metadata": {
    "collapsed": false,
    "deletable": true,
    "editable": true
   },
   "outputs": [
    {
     "name": "stdout",
     "output_type": "stream",
     "text": [
      "{'F': 14449, 'M': 86349}\n"
     ]
    }
   ],
   "source": [
    "print(sex_counts)"
   ]
  },
  {
   "cell_type": "markdown",
   "metadata": {
    "collapsed": true,
    "deletable": true,
    "editable": true
   },
   "source": [
    "I need to practie the date time format changes, and practice the cocrrect use of parenthesis and brackets more, but everything else looks good"
   ]
  },
  {
   "cell_type": "code",
   "execution_count": 24,
   "metadata": {
    "collapsed": false,
    "deletable": true,
    "editable": true
   },
   "outputs": [
    {
     "name": "stdout",
     "output_type": "stream",
     "text": [
      "[['Id', 'Year', 'Id', 'Sex', 'Id', 'Hispanic Origin', 'Id', 'Id2', 'Geography', 'Total', 'Race Alone - White', 'Race Alone - Hispanic', 'Race Alone - Black or African American', 'Race Alone - American Indian and Alaska Native', 'Race Alone - Asian', 'Race Alone - Native Hawaiian and Other Pacific Islander', 'Two or More Races'], ['cen42010', 'April 1, 2010 Census', 'totsex', 'Both Sexes', 'tothisp', 'Total', '0100000US', '', 'United States', '308745538', '197318956', '44618105', '40250635', '3739506', '15159516', '674625', '6984195']]\n"
     ]
    }
   ],
   "source": [
    "f=open(\"census.csv\")\n",
    "census= list(csv.reader(f))\n",
    "print(census)"
   ]
  },
  {
   "cell_type": "code",
   "execution_count": 23,
   "metadata": {
    "collapsed": false,
    "deletable": true,
    "editable": true
   },
   "outputs": [
    {
     "name": "stdout",
     "output_type": "stream",
     "text": [
      "[['Id', 'Year', 'Id', 'Sex', 'Id', 'Hispanic Origin', 'Id', 'Id2', 'Geography', 'Total', 'Race Alone - White', 'Race Alone - Hispanic', 'Race Alone - Black or African American', 'Race Alone - American Indian and Alaska Native', 'Race Alone - Asian', 'Race Alone - Native Hawaiian and Other Pacific Islander', 'Two or More Races'], ['cen42010', 'April 1, 2010 Census', 'totsex', 'Both Sexes', 'tothisp', 'Total', '0100000US', '', 'United States', '308745538', '197318956', '44618105', '40250635', '3739506', '15159516', '674625', '6984195']]\n"
     ]
    }
   ],
   "source": [
    "print(census)"
   ]
  },
  {
   "cell_type": "code",
   "execution_count": 27,
   "metadata": {
    "collapsed": false,
    "deletable": true,
    "editable": true
   },
   "outputs": [],
   "source": [
    "mapping = {\n",
    "    \"Hispanic\": 44618105,\n",
    "    \"White\": 197318956,\n",
    "    \"Asian/Pacific Islander\": 15159516 + 674625,\n",
    "    \"Black\": 40250635,\n",
    "    \"Native American/Native Alaskan\": 3739506\n",
    "}"
   ]
  },
  {
   "cell_type": "code",
   "execution_count": 31,
   "metadata": {
    "collapsed": false,
    "deletable": true,
    "editable": true
   },
   "outputs": [
    {
     "name": "stdout",
     "output_type": "stream",
     "text": [
      "{'Hispanic': 20.220491210910907, 'White': 33.56849303419181, 'Asian/Pacific Islander': 8.374309664161762, 'Black': 57.877347773519595, 'Native American/Native Alaskan': 24.521955573811088}\n"
     ]
    }
   ],
   "source": [
    "race_per_hundredk={}\n",
    "for value in race_counts:\n",
    "    k100= 100000*race_counts[value]/mapping[value]\n",
    "    race_per_hundredk[value]= k100\n",
    "\n",
    "print(race_per_hundredk)"
   ]
  },
  {
   "cell_type": "code",
   "execution_count": 40,
   "metadata": {
    "collapsed": false,
    "deletable": true,
    "editable": true
   },
   "outputs": [
    {
     "name": "stdout",
     "output_type": "stream",
     "text": [
      "{'Hispanic': 5634, 'White': 9147, 'Asian/Pacific Islander': 559, 'Black': 19510, 'Native American/Native Alaskan': 326}\n"
     ]
    }
   ],
   "source": [
    "intents=[]\n",
    "races=[]\n",
    "for row in data:\n",
    "    intents.append(row[3])\n",
    "    races.append(row[7])\n",
    "    \n",
    "homicide_race_counts={}\n",
    "\n",
    "for i, value in enumerate(races):\n",
    "    if intents[i]==\"Homicide\":\n",
    "        if value in homicide_race_counts:\n",
    "            homicide_race_counts[value]+=1\n",
    "        else:\n",
    "            homicide_race_counts[value]=1\n",
    "print(homicide_race_counts)"
   ]
  },
  {
   "cell_type": "code",
   "execution_count": 43,
   "metadata": {
    "collapsed": false,
    "deletable": true,
    "editable": true
   },
   "outputs": [
    {
     "name": "stdout",
     "output_type": "stream",
     "text": [
      "{'Hispanic': 20.220491210910907, 'White': 33.56849303419181, 'Asian/Pacific Islander': 8.374309664161762, 'Black': 57.877347773519595, 'Native American/Native Alaskan': 24.521955573811088}\n",
      "{'Hispanic': 12.627161104219912, 'White': 4.6356417981453335, 'Asian/Pacific Islander': 3.5303462309701548, 'Black': 48.47128498718095, 'Native American/Native Alaskan': 8.717729026240365}\n"
     ]
    }
   ],
   "source": [
    "homicide_race_per_hundredk={}\n",
    "for value in homicide_race_counts:\n",
    "    k100= 100000*homicide_race_counts[value]/mapping[value]\n",
    "    homicide_race_per_hundredk[value]= k100\n",
    "\n",
    "print(race_per_hundredk)\n",
    "print(homicide_race_per_hundredk)"
   ]
  },
  {
   "cell_type": "markdown",
   "metadata": {
    "deletable": true,
    "editable": true
   },
   "source": [
    "It seems that the number of gundeaths per 100 k is not directly proportional to the homicides per 100 k as we look across the races. For white people less than 15% of gun deaths are due to homicides, while for black people, this number is above 80%."
   ]
  }
 ],
 "metadata": {
  "kernelspec": {
   "display_name": "Python 3",
   "language": "python",
   "name": "python3"
  },
  "language_info": {
   "codemirror_mode": {
    "name": "ipython",
    "version": 3
   },
   "file_extension": ".py",
   "mimetype": "text/x-python",
   "name": "python",
   "nbconvert_exporter": "python",
   "pygments_lexer": "ipython3",
   "version": "3.5.2"
  }
 },
 "nbformat": 4,
 "nbformat_minor": 0
}
